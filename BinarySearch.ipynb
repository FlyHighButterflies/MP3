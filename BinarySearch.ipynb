{
 "cells": [
  {
   "cell_type": "markdown",
   "metadata": {},
   "source": [
    "# Decrease and Conquer: Binary Search"
   ]
  },
  {
   "cell_type": "markdown",
   "metadata": {},
   "source": [
    "### The Binary Search Algorithm is a basic and effective search method for finding a particular element in a list or array that has been sorted.  On the other hand, it has certain drawbacks even though its effectiveness has been acknowledged.\n",
    "\n",
    "### Limitations:\n",
    "- Binary search is limited to sorted lists or arrays. Data that isn't sorted needs to be sorted first.\n",
    "- Binary search could not be considerably quicker than linear search for small datasets.\n",
    "- Dynamic datasets are unsuited for binary search.  Maintaining the data in its sorted order can be costly.\n",
    "- Searches are case sensitive.\n"
   ]
  },
  {
   "cell_type": "code",
   "execution_count": 30,
   "metadata": {},
   "outputs": [
    {
     "name": "stdout",
     "output_type": "stream",
     "text": [
      "List of NBA Players:\n",
      "1. Darius Garland\n",
      "2. De'Andre Hunter\n",
      "3. Donovan Mitchell\n",
      "4. Evan mobley\n",
      "5. Jarett Allen\n",
      "6. LeBron James\n",
      "\n",
      "Searching for player: lebron james\n",
      "\n",
      "--- Search Results for Case-insensitive Binary Search ---\n",
      "Binary Search (sorted list): 'lebron james' is in the list at number 6!\n",
      "Binary Search (unsorted list): 'lebron james' is NOT in the list.\n",
      "\n",
      "--- Search Results for Case-sensitive Binary Search ---\n",
      "Binary Search (sorted list): 'lebron james' is NOT in the list.\n",
      "Binary Search (unsorted list): 'lebron james' is NOT in the list.\n"
     ]
    },
    {
     "data": {
      "text/plain": [
       "{'case_insensitive': {'sorted': {'found': True, 'index': 5},\n",
       "  'unsorted': {'found': False, 'index': -1}},\n",
       " 'case_sensitive': {'sorted': {'found': False, 'index': -1},\n",
       "  'unsorted': {'found': False, 'index': -1}}}"
      ]
     },
     "execution_count": 30,
     "metadata": {},
     "output_type": "execute_result"
    }
   ],
   "source": [
    "# Declaration of sorted and unsorted lists of NBA players\n",
    "sorted_players = sorted([\"LeBron James\", \"De'Andre Hunter\", \"Darius Garland\",\"Jarett Allen\", \"Donovan Mitchell\", \"Evan mobley\"])\n",
    "unsorted_players = [\"LeBron James\", \"De'Andre Hunter\", \"Darius Garland\",\"Jarett Allen\", \"Donovan Mitchell\", \"Evan mobley\"]\n",
    "\n",
    "# Function to perform binary search and return index (case-insensitive)\n",
    "def case_insensitive_binary_search(players, target, start_idx=0):\n",
    "    if not players:\n",
    "        return -1\n",
    "    mid = len(players) // 2\n",
    "    # Normalize case for comparison to ensure case-insensitive search\n",
    "    if players[mid].lower() == target.lower():\n",
    "        return start_idx + mid\n",
    "    elif target.lower() < players[mid].lower():\n",
    "        return case_insensitive_binary_search(players[:mid], target, start_idx)  \n",
    "    else:\n",
    "        return case_insensitive_binary_search(players[mid+1:], target, start_idx + mid + 1)\n",
    "    \n",
    "def case_sensitive_binary_search(players, target, start_idx=0):\n",
    "    if not players:\n",
    "        return -1\n",
    "    mid = len(players) // 2\n",
    "    # Perform case-sensitive comparison\n",
    "    if players[mid] == target:\n",
    "        return start_idx + mid\n",
    "    elif target < players[mid]:\n",
    "        return case_sensitive_binary_search(players[:mid], target, start_idx)  \n",
    "    else:\n",
    "        return case_sensitive_binary_search(players[mid+1:], target, start_idx + mid + 1)\n",
    "\n",
    "# Display the sorted list of players\n",
    "print(\"List of NBA Players:\")\n",
    "for i, player in enumerate(sorted_players, 1):\n",
    "    print(f\"{i}. {player}\")\n",
    "\n",
    "# Get user input for player name to search\n",
    "player_name = input(\"Enter NBA player name to search: \")\n",
    "\n",
    "# Display user input\n",
    "print(f\"\\nSearching for player: {player_name}\")\n",
    "\n",
    "# Function to display search results\n",
    "def search_and_display_results(sorted_list, unsorted_list, target):\n",
    "    # Case-insensitive searches\n",
    "    ci_sorted_idx = case_insensitive_binary_search(sorted_list, target)\n",
    "    ci_sorted_result = ci_sorted_idx != -1\n",
    "    \n",
    "    ci_unsorted_idx = case_insensitive_binary_search(unsorted_list, target)\n",
    "    ci_unsorted_result = ci_unsorted_idx != -1\n",
    "    \n",
    "    # Case-sensitive searches\n",
    "    cs_sorted_idx = case_sensitive_binary_search(sorted_list, target)\n",
    "    cs_sorted_result = cs_sorted_idx != -1\n",
    "    \n",
    "    cs_unsorted_idx = case_sensitive_binary_search(unsorted_list, target)\n",
    "    cs_unsorted_result = cs_unsorted_idx != -1\n",
    "    \n",
    "    # Display case-insensitive results\n",
    "    print(\"\\n--- Search Results for Case-insensitive Binary Search ---\")\n",
    "    if ci_sorted_result:\n",
    "        print(f\"Binary Search (sorted list): '{target}' is in the list at number {ci_sorted_idx + 1}!\")\n",
    "    else:\n",
    "        print(f\"Binary Search (sorted list): '{target}' is NOT in the list.\")\n",
    "    \n",
    "    if ci_unsorted_result:\n",
    "        print(f\"Binary Search (unsorted list): '{target}' is in the list at number {ci_unsorted_idx + 1}!\")\n",
    "    else:\n",
    "        print(f\"Binary Search (unsorted list): '{target}' is NOT in the list.\")\n",
    "    \n",
    "    # Display case-sensitive results\n",
    "    print(\"\\n--- Search Results for Case-sensitive Binary Search ---\")\n",
    "    if cs_sorted_result:\n",
    "        print(f\"Binary Search (sorted list): '{target}' is in the list at number {cs_sorted_idx + 1}!\")\n",
    "    else:\n",
    "        print(f\"Binary Search (sorted list): '{target}' is NOT in the list.\")\n",
    "    \n",
    "    if cs_unsorted_result:\n",
    "        print(f\"Binary Search (unsorted list): '{target}' is in the list at number {cs_unsorted_idx + 1}!\")\n",
    "    else:\n",
    "        print(f\"Binary Search (unsorted list): '{target}' is NOT in the list.\")\n",
    "    \n",
    "    # Note: Binary search may give incorrect results on unsorted lists; and is case sensitive.\n",
    "    \n",
    "    # Return all results as a dictionary\n",
    "    return {\n",
    "        \"case_insensitive\": {\n",
    "            \"sorted\": {\"found\": ci_sorted_result, \"index\": ci_sorted_idx},\n",
    "            \"unsorted\": {\"found\": ci_unsorted_result, \"index\": ci_unsorted_idx}\n",
    "        },\n",
    "        \"case_sensitive\": {\n",
    "            \"sorted\": {\"found\": cs_sorted_result, \"index\": cs_sorted_idx},\n",
    "            \"unsorted\": {\"found\": cs_unsorted_result, \"index\": cs_unsorted_idx}\n",
    "        }\n",
    "    }\n",
    "\n",
    "# Search and display results\n",
    "search_and_display_results(sorted_players, unsorted_players, player_name)"
   ]
  }
 ],
 "metadata": {
  "kernelspec": {
   "display_name": ".venv",
   "language": "python",
   "name": "python3"
  },
  "language_info": {
   "codemirror_mode": {
    "name": "ipython",
    "version": 3
   },
   "file_extension": ".py",
   "mimetype": "text/x-python",
   "name": "python",
   "nbconvert_exporter": "python",
   "pygments_lexer": "ipython3",
   "version": "3.13.1"
  }
 },
 "nbformat": 4,
 "nbformat_minor": 2
}
