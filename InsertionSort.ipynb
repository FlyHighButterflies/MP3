{
 "cells": [
  {
   "cell_type": "markdown",
   "metadata": {},
   "source": [
    "# Decrease and Conquer: Insertion Sort"
   ]
  },
  {
   "cell_type": "markdown",
   "metadata": {},
   "source": [
    "### Insertion sort is one of the most basic and often used sorting algorithms. However, insertion sort has many drawbacks while being straightforward and efficient for smaller data sets.\n",
    "\n",
    "### Limitations\n",
    "- Insertion sort is inefficient when dealing with larger data sets.\n",
    "- Insertion sort shows O(n2) as the worst-case time complexity.\n",
    "- It performs poorly compared to other, more advanced sorting algorithms."
   ]
  },
  {
   "cell_type": "code",
   "execution_count": 3,
   "metadata": {},
   "outputs": [
    {
     "name": "stdout",
     "output_type": "stream",
     "text": [
      "Insertion Sort Time: 0.24232 seconds\n",
      "Merge Sort Time: 0.00454 seconds\n"
     ]
    }
   ],
   "source": [
    "import time\n",
    "import random\n",
    "\n",
    "# Insertion Sort: O(n^2) worst case\n",
    "def insertion_sort(arr):\n",
    "    for i in range(1, len(arr)):\n",
    "        key = arr[i]\n",
    "        j = i - 1\n",
    "        while j >= 0 and arr[j] > key:\n",
    "            arr[j + 1] = arr[j]\n",
    "            j -= 1\n",
    "        arr[j + 1] = key\n",
    "\n",
    "# Merge Sort: O(n log n)\n",
    "def merge_sort(arr):\n",
    "    if len(arr) > 1:\n",
    "        mid = len(arr) // 2\n",
    "        left_half = arr[:mid]\n",
    "        right_half = arr[mid:]\n",
    "\n",
    "        merge_sort(left_half)\n",
    "        merge_sort(right_half)\n",
    "\n",
    "        i = j = k = 0\n",
    "\n",
    "        # Merge the two halves\n",
    "        while i < len(left_half) and j < len(right_half):\n",
    "            if left_half[i] < right_half[j]:\n",
    "                arr[k] = left_half[i]\n",
    "                i += 1\n",
    "            else:\n",
    "                arr[k] = right_half[j]\n",
    "                j += 1\n",
    "            k += 1\n",
    "\n",
    "        # Copy remaining elements\n",
    "        while i < len(left_half):\n",
    "            arr[k] = left_half[i]\n",
    "            i += 1\n",
    "            k += 1\n",
    "        while j < len(right_half):\n",
    "            arr[k] = right_half[j]\n",
    "            j += 1\n",
    "            k += 1\n",
    "\n",
    "# Reverse sorted data: worst for insertion sort\n",
    "data_size = 5000\n",
    "random_data = list(range(data_size, 0, -1))\n",
    "# Generate random data (instead of reverse sorted)\n",
    "random_data = [random.randint(1, data_size*10) for _ in range(data_size)]\n",
    "\n",
    "# Test Standard Insertion Sort\n",
    "data1 = random_data.copy()\n",
    "start_time = time.time()\n",
    "insertion_sort(data1)\n",
    "standard_sort_time = time.time() - start_time\n",
    "\n",
    "# Test Merge Sort\n",
    "data2 = random_data.copy()\n",
    "start_time = time.time()\n",
    "merge_sort(data2)\n",
    "merge_sort_time = time.time() - start_time\n",
    "\n",
    "# Display results\n",
    "print(f\"Insertion Sort Time: {standard_sort_time:.5f} seconds\")\n",
    "print(f\"Merge Sort Time: {merge_sort_time:.5f} seconds\")"
   ]
  }
 ],
 "metadata": {
  "kernelspec": {
   "display_name": ".venv",
   "language": "python",
   "name": "python3"
  },
  "language_info": {
   "codemirror_mode": {
    "name": "ipython",
    "version": 3
   },
   "file_extension": ".py",
   "mimetype": "text/x-python",
   "name": "python",
   "nbconvert_exporter": "python",
   "pygments_lexer": "ipython3",
   "version": "3.13.1"
  }
 },
 "nbformat": 4,
 "nbformat_minor": 2
}
